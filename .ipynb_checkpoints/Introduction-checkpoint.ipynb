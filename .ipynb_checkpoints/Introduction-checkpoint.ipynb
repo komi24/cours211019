{
 "cells": [
  {
   "cell_type": "markdown",
   "metadata": {},
   "source": [
    "## Introduction Python\n",
    "\n",
    "* Les variables\n",
    "* Les boucles\n",
    "..."
   ]
  },
  {
   "cell_type": "code",
   "execution_count": 2,
   "metadata": {},
   "outputs": [
    {
     "name": "stdout",
     "output_type": "stream",
     "text": [
      "[2, 1, 6, 8]\n",
      "[5, 12, 7]\n",
      "[1, 8, 12]\n",
      "[12, 5, 8, 6]\n"
     ]
    }
   ],
   "source": [
    "ma_liste = [2,1,6,8,5,12,7]\n",
    "\n",
    "# Récupérer les 4 premiers éléments\n",
    "print(ma_liste[:4])\n",
    "# Récupérer les 3 derniers éléments\n",
    "print(ma_liste[-3:])\n",
    "# Récupérer du 2ème au 6ème (inclus) de deux en deux\n",
    "print(ma_liste[1:6:2])\n",
    "# Récupérer de l'avant-dernier au 3ème (sens inverse)\n",
    "print(ma_liste[-2:1:-1])"
   ]
  },
  {
   "cell_type": "markdown",
   "metadata": {},
   "source": [
    "## Loops"
   ]
  },
  {
   "cell_type": "code",
   "execution_count": 5,
   "metadata": {},
   "outputs": [
    {
     "name": "stdout",
     "output_type": "stream",
     "text": [
      " indice : 0, element : 3\n",
      "interieur\n",
      " indice : 1, element : 1\n",
      "interieur\n",
      " indice : 2, element : 6\n",
      "interieur\n",
      " indice : 3, element : 8\n",
      "interieur\n",
      " indice : 4, element : 5\n",
      "interieur\n",
      "extérieur\n"
     ]
    }
   ],
   "source": [
    "# for i in [3,2,6]:\n",
    "#     print(i)\n",
    "\n",
    "# On itère sur les éléments d'une liste\n",
    "# for elm in [True, 15, [3,6,1]]:\n",
    "#     print(elm)\n",
    "\n",
    "# print(list(range(15)))\n",
    "# print(int(\"34\") + 4)\n",
    "# # print(\"34\" + 4) # can only concatenate str (not \"int\") to str\n",
    "\n",
    "ma_liste = [3,1, 6, 8,5]\n",
    "\n",
    "for i in range(len(ma_liste)):\n",
    "#     print(\"indice : \" + str(i) +\", element : \" + str(ma_liste[i]))\n",
    "    print(f\" indice : {i}, element : {ma_liste[i]}\")\n",
    "    print(\"interieur\")\n",
    "    \n",
    "print(\"extérieur\")\n",
    "\n"
   ]
  },
  {
   "cell_type": "code",
   "execution_count": 1,
   "metadata": {},
   "outputs": [
    {
     "name": "stdout",
     "output_type": "stream",
     "text": [
      "45\n",
      "85\n",
      "62\n",
      "34\n"
     ]
    }
   ],
   "source": [
    "liste_ages = [ 45, 85, 62, 34 , 14, 16, 22]\n",
    "\n",
    "i = 0\n",
    "while liste_ages[i] > 18:\n",
    "    print(liste_ages[i])\n",
    "    i += 1"
   ]
  },
  {
   "cell_type": "code",
   "execution_count": 7,
   "metadata": {},
   "outputs": [
    {
     "name": "stdout",
     "output_type": "stream",
     "text": [
      "Majeur\n"
     ]
    }
   ],
   "source": [
    "age = 32\n",
    "if age > 18: # != different, == egal, >= / <= \n",
    "    print(\"Majeur\")\n",
    "elif age < 18:\n",
    "    print(\"Mineur\")\n",
    "else:\n",
    "    print(\"Joyeux anniversaire\")\n",
    "    "
   ]
  },
  {
   "cell_type": "markdown",
   "metadata": {},
   "source": [
    "## FizzBuzz\n",
    "\n",
    "Afficher pour tous les entiers de 0 à 100:\n",
    "* \"fizz\" si l'entier est multiple de 3\n",
    "* \"buzz\" si l'entier est multiple de 5\n",
    "* \"bazz\" si l'entier est multiple de 3 et 5\n",
    "* Sinon l'entier\n",
    "\n"
   ]
  },
  {
   "cell_type": "markdown",
   "metadata": {},
   "source": [
    "## https://github.com/komi24/cours211019"
   ]
  },
  {
   "cell_type": "code",
   "execution_count": 10,
   "metadata": {},
   "outputs": [
    {
     "name": "stdout",
     "output_type": "stream",
     "text": [
      "bazz\n",
      "1\n",
      "2\n",
      "fizz\n",
      "4\n",
      "buzz\n",
      "fizz\n",
      "7\n",
      "8\n",
      "fizz\n",
      "buzz\n",
      "11\n",
      "fizz\n",
      "13\n",
      "14\n",
      "bazz\n",
      "16\n",
      "17\n",
      "fizz\n",
      "19\n",
      "buzz\n",
      "fizz\n",
      "22\n",
      "23\n",
      "fizz\n",
      "buzz\n",
      "26\n",
      "fizz\n",
      "28\n",
      "29\n",
      "bazz\n",
      "31\n",
      "32\n",
      "fizz\n",
      "34\n",
      "buzz\n",
      "fizz\n",
      "37\n",
      "38\n",
      "fizz\n",
      "buzz\n",
      "41\n",
      "fizz\n",
      "43\n",
      "44\n",
      "bazz\n",
      "46\n",
      "47\n",
      "fizz\n",
      "49\n",
      "buzz\n",
      "fizz\n",
      "52\n",
      "53\n",
      "fizz\n",
      "buzz\n",
      "56\n",
      "fizz\n",
      "58\n",
      "59\n",
      "bazz\n",
      "61\n",
      "62\n",
      "fizz\n",
      "64\n",
      "buzz\n",
      "fizz\n",
      "67\n",
      "68\n",
      "fizz\n",
      "buzz\n",
      "71\n",
      "fizz\n",
      "73\n",
      "74\n",
      "bazz\n",
      "76\n",
      "77\n",
      "fizz\n",
      "79\n",
      "buzz\n",
      "fizz\n",
      "82\n",
      "83\n",
      "fizz\n",
      "buzz\n",
      "86\n",
      "fizz\n",
      "88\n",
      "89\n",
      "bazz\n",
      "91\n",
      "92\n",
      "fizz\n",
      "94\n",
      "buzz\n",
      "fizz\n",
      "97\n",
      "98\n",
      "fizz\n",
      "buzz\n"
     ]
    }
   ],
   "source": [
    "for i in range(101):\n",
    "    if i % 5 == 0 and i % 3 == 0: # i % 15 == 0\n",
    "        print(\"bazz\")\n",
    "    elif i % 3 == 0:\n",
    "        print(\"fizz\")\n",
    "    elif i % 5 == 0:\n",
    "        print(\"buzz\")\n",
    "    else:\n",
    "        print(i)"
   ]
  },
  {
   "cell_type": "code",
   "execution_count": 1,
   "metadata": {},
   "outputs": [
    {
     "name": "stdout",
     "output_type": "stream",
     "text": [
      "Quelle est votre proposition ?50\n",
      "trop petit\n",
      "Quelle est votre proposition ?75\n",
      "trop petit\n",
      "Quelle est votre proposition ?82\n",
      "trop grand\n",
      "Quelle est votre proposition ?80\n",
      "trop grand\n",
      "Quelle est votre proposition ?78\n",
      "trop grand\n",
      "Quelle est votre proposition ?76\n",
      "trop petit\n",
      "Quelle est votre proposition ?77\n",
      "Gagné\n"
     ]
    }
   ],
   "source": [
    "# On importe la fonction randint de la librairie random\n",
    "from random import randint as rd\n",
    "\n",
    "# import random\n",
    "# random.randint(0,100)\n",
    "\n",
    "secret = rd(0,100)\n",
    "proposition_utilisateur = None\n",
    "\n",
    "while proposition_utilisateur != secret:\n",
    "    proposition_utilisateur = int(input(\"Quelle est votre proposition ?\"))\n",
    "    if proposition_utilisateur < secret:\n",
    "        print(\"trop petit\")\n",
    "    elif proposition_utilisateur > secret:\n",
    "        print(\"trop grand\")\n",
    "    else:\n",
    "        print(\"Gagné\")\n"
   ]
  },
  {
   "cell_type": "code",
   "execution_count": null,
   "metadata": {},
   "outputs": [],
   "source": []
  }
 ],
 "metadata": {
  "kernelspec": {
   "display_name": "Python 3",
   "language": "python",
   "name": "python3"
  },
  "language_info": {
   "codemirror_mode": {
    "name": "ipython",
    "version": 3
   },
   "file_extension": ".py",
   "mimetype": "text/x-python",
   "name": "python",
   "nbconvert_exporter": "python",
   "pygments_lexer": "ipython3",
   "version": "3.7.4"
  }
 },
 "nbformat": 4,
 "nbformat_minor": 2
}
