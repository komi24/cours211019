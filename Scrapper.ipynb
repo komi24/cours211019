{
 "cells": [
  {
   "cell_type": "code",
   "execution_count": 8,
   "metadata": {},
   "outputs": [],
   "source": [
    "from selenium import webdriver"
   ]
  },
  {
   "cell_type": "code",
   "execution_count": 4,
   "metadata": {},
   "outputs": [],
   "source": [
    "browser = webdriver.Chrome()\n",
    "browser.get(\"https://www.seloger.com\")"
   ]
  },
  {
   "cell_type": "code",
   "execution_count": 5,
   "metadata": {},
   "outputs": [],
   "source": [
    "button = browser.find_element_by_css_selector(\".c-quest-actions-search\")\n",
    "button.click()"
   ]
  },
  {
   "cell_type": "code",
   "execution_count": 10,
   "metadata": {},
   "outputs": [],
   "source": [
    "from selenium.webdriver.common.keys import Keys\n",
    "\n",
    "inp = browser.find_element_by_css_selector(\"#agatha_autocomplete_autocompleteUI__input\")\n",
    "inp.send_keys(\"Toulouse\")\n",
    "inp.send_keys(Keys.ENTER)\n",
    "\n",
    "button = browser.find_element_by_css_selector(\".c-quest-actions-search\")\n",
    "button.click()"
   ]
  },
  {
   "cell_type": "code",
   "execution_count": 13,
   "metadata": {},
   "outputs": [],
   "source": [
    "prices = browser.find_elements_by_css_selector(\".Price__Label-sc-1g9fitq-1.jGOFou\")\n"
   ]
  },
  {
   "cell_type": "code",
   "execution_count": 19,
   "metadata": {},
   "outputs": [
    {
     "data": {
      "text/plain": [
       "['9 900 000 €',\n",
       " '6 300 000 €',\n",
       " '1 600 000 €',\n",
       " '1 790 000 €',\n",
       " '1 988 000 €',\n",
       " '2 470 000 €',\n",
       " '1 080 000 €',\n",
       " '619 000 €',\n",
       " '630 000 €',\n",
       " '620 000 €',\n",
       " '825 000 €',\n",
       " '415 000 €',\n",
       " '1 670 000 €',\n",
       " '1 750 000 €',\n",
       " '2 290 000 €',\n",
       " '1 799 000 €',\n",
       " '3 120 000 €',\n",
       " 'bouquet\\n294 660 €',\n",
       " '1 750 000 €',\n",
       " 'de 3M à 10M €',\n",
       " '1 995 000 €',\n",
       " '425 000 €',\n",
       " '542 000 €',\n",
       " '1 600 000 €',\n",
       " '850 000 €']"
      ]
     },
     "execution_count": 19,
     "metadata": {},
     "output_type": "execute_result"
    }
   ],
   "source": [
    "liste = [ elem.text for elem in prices]\n",
    "liste"
   ]
  },
  {
   "cell_type": "code",
   "execution_count": 20,
   "metadata": {},
   "outputs": [],
   "source": [
    "from time import sleep\n",
    "\n",
    "sleep(2)"
   ]
  },
  {
   "cell_type": "code",
   "execution_count": null,
   "metadata": {},
   "outputs": [],
   "source": [
    "ma_liste = ['9 900 000 €',\n",
    " '6 300 000 €',\n",
    " '1 600 000 €',\n",
    " '1 790 000 €',\n",
    " '1 988 000 €',\n",
    " '2 470 000 €',\n",
    " '1 080 000 €',\n",
    " '619 000 €',\n",
    " '630 000 €',\n",
    " '620 000 €',\n",
    " '825 000 €',\n",
    " '415 000 €',\n",
    " '1 670 000 €',\n",
    " '1 750 000 €',\n",
    " '2 290 000 €',\n",
    " '1 799 000 €',\n",
    " '3 120 000 €',\n",
    " 'bouquet\\n294 660 €',\n",
    " '1 750 000 €',\n",
    " 'de 3M à 10M €',\n",
    " '1 995 000 €',\n",
    " '425 000 €',\n",
    " '542 000 €',\n",
    " '1 600 000 €',\n",
    " '850 000 €']"
   ]
  }
 ],
 "metadata": {
  "kernelspec": {
   "display_name": "Python 3",
   "language": "python",
   "name": "python3"
  },
  "language_info": {
   "codemirror_mode": {
    "name": "ipython",
    "version": 3
   },
   "file_extension": ".py",
   "mimetype": "text/x-python",
   "name": "python",
   "nbconvert_exporter": "python",
   "pygments_lexer": "ipython3",
   "version": "3.7.4"
  }
 },
 "nbformat": 4,
 "nbformat_minor": 2
}
