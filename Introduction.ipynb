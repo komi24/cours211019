{
 "cells": [
  {
   "cell_type": "markdown",
   "metadata": {},
   "source": [
    "## Introduction Python\n",
    "\n",
    "* Les variables\n",
    "* Les boucles\n",
    "..."
   ]
  },
  {
   "cell_type": "code",
   "execution_count": 2,
   "metadata": {},
   "outputs": [
    {
     "name": "stdout",
     "output_type": "stream",
     "text": [
      "[2, 1, 6, 8]\n",
      "[5, 12, 7]\n",
      "[1, 8, 12]\n",
      "[12, 5, 8, 6]\n"
     ]
    }
   ],
   "source": [
    "ma_liste = [2,1,6,8,5,12,7]\n",
    "\n",
    "# Récupérer les 4 premiers éléments\n",
    "print(ma_liste[:4])\n",
    "# Récupérer les 3 derniers éléments\n",
    "print(ma_liste[-3:])\n",
    "# Récupérer du 2ème au 6ème (inclus) de deux en deux\n",
    "print(ma_liste[1:6:2])\n",
    "# Récupérer de l'avant-dernier au 3ème (sens inverse)\n",
    "print(ma_liste[-2:1:-1])"
   ]
  },
  {
   "cell_type": "markdown",
   "metadata": {},
   "source": [
    "## Loops"
   ]
  },
  {
   "cell_type": "code",
   "execution_count": 5,
   "metadata": {},
   "outputs": [
    {
     "name": "stdout",
     "output_type": "stream",
     "text": [
      " indice : 0, element : 3\n",
      "interieur\n",
      " indice : 1, element : 1\n",
      "interieur\n",
      " indice : 2, element : 6\n",
      "interieur\n",
      " indice : 3, element : 8\n",
      "interieur\n",
      " indice : 4, element : 5\n",
      "interieur\n",
      "extérieur\n"
     ]
    }
   ],
   "source": [
    "# for i in [3,2,6]:\n",
    "#     print(i)\n",
    "\n",
    "# On itère sur les éléments d'une liste\n",
    "# for elm in [True, 15, [3,6,1]]:\n",
    "#     print(elm)\n",
    "\n",
    "# print(list(range(15)))\n",
    "# print(int(\"34\") + 4)\n",
    "# # print(\"34\" + 4) # can only concatenate str (not \"int\") to str\n",
    "\n",
    "ma_liste = [3,1, 6, 8,5]\n",
    "\n",
    "for i in range(len(ma_liste)):\n",
    "#     print(\"indice : \" + str(i) +\", element : \" + str(ma_liste[i]))\n",
    "    print(f\" indice : {i}, element : {ma_liste[i]}\")\n",
    "    print(\"interieur\")\n",
    "    \n",
    "print(\"extérieur\")\n",
    "\n"
   ]
  },
  {
   "cell_type": "code",
   "execution_count": 1,
   "metadata": {},
   "outputs": [
    {
     "name": "stdout",
     "output_type": "stream",
     "text": [
      "45\n",
      "85\n",
      "62\n",
      "34\n"
     ]
    }
   ],
   "source": [
    "liste_ages = [ 45, 85, 62, 34 , 14, 16, 22]\n",
    "\n",
    "i = 0\n",
    "while liste_ages[i] > 18:\n",
    "    print(liste_ages[i])\n",
    "    i += 1"
   ]
  },
  {
   "cell_type": "code",
   "execution_count": 7,
   "metadata": {},
   "outputs": [
    {
     "name": "stdout",
     "output_type": "stream",
     "text": [
      "Majeur\n"
     ]
    }
   ],
   "source": [
    "age = 32\n",
    "if age > 18: # != different, == egal, >= / <= \n",
    "    print(\"Majeur\")\n",
    "elif age < 18:\n",
    "    print(\"Mineur\")\n",
    "else:\n",
    "    print(\"Joyeux anniversaire\")\n",
    "    "
   ]
  },
  {
   "cell_type": "markdown",
   "metadata": {},
   "source": [
    "## FizzBuzz\n",
    "\n",
    "Afficher pour tous les entiers de 0 à 100:\n",
    "* \"fizz\" si l'entier est multiple de 3\n",
    "* \"buzz\" si l'entier est multiple de 5\n",
    "* \"bazz\" si l'entier est multiple de 3 et 5\n",
    "* Sinon l'entier\n",
    "\n"
   ]
  },
  {
   "cell_type": "markdown",
   "metadata": {},
   "source": [
    "## https://github.com/komi24/cours211019"
   ]
  },
  {
   "cell_type": "code",
   "execution_count": 10,
   "metadata": {},
   "outputs": [
    {
     "name": "stdout",
     "output_type": "stream",
     "text": [
      "bazz\n",
      "1\n",
      "2\n",
      "fizz\n",
      "4\n",
      "buzz\n",
      "fizz\n",
      "7\n",
      "8\n",
      "fizz\n",
      "buzz\n",
      "11\n",
      "fizz\n",
      "13\n",
      "14\n",
      "bazz\n",
      "16\n",
      "17\n",
      "fizz\n",
      "19\n",
      "buzz\n",
      "fizz\n",
      "22\n",
      "23\n",
      "fizz\n",
      "buzz\n",
      "26\n",
      "fizz\n",
      "28\n",
      "29\n",
      "bazz\n",
      "31\n",
      "32\n",
      "fizz\n",
      "34\n",
      "buzz\n",
      "fizz\n",
      "37\n",
      "38\n",
      "fizz\n",
      "buzz\n",
      "41\n",
      "fizz\n",
      "43\n",
      "44\n",
      "bazz\n",
      "46\n",
      "47\n",
      "fizz\n",
      "49\n",
      "buzz\n",
      "fizz\n",
      "52\n",
      "53\n",
      "fizz\n",
      "buzz\n",
      "56\n",
      "fizz\n",
      "58\n",
      "59\n",
      "bazz\n",
      "61\n",
      "62\n",
      "fizz\n",
      "64\n",
      "buzz\n",
      "fizz\n",
      "67\n",
      "68\n",
      "fizz\n",
      "buzz\n",
      "71\n",
      "fizz\n",
      "73\n",
      "74\n",
      "bazz\n",
      "76\n",
      "77\n",
      "fizz\n",
      "79\n",
      "buzz\n",
      "fizz\n",
      "82\n",
      "83\n",
      "fizz\n",
      "buzz\n",
      "86\n",
      "fizz\n",
      "88\n",
      "89\n",
      "bazz\n",
      "91\n",
      "92\n",
      "fizz\n",
      "94\n",
      "buzz\n",
      "fizz\n",
      "97\n",
      "98\n",
      "fizz\n",
      "buzz\n"
     ]
    }
   ],
   "source": [
    "for i in range(101):\n",
    "    if i % 5 == 0 and i % 3 == 0: # i % 15 == 0\n",
    "        print(\"bazz\")\n",
    "    elif i % 3 == 0:\n",
    "        print(\"fizz\")\n",
    "    elif i % 5 == 0:\n",
    "        print(\"buzz\")\n",
    "    else:\n",
    "        print(i)"
   ]
  },
  {
   "cell_type": "code",
   "execution_count": 1,
   "metadata": {},
   "outputs": [
    {
     "name": "stdout",
     "output_type": "stream",
     "text": [
      "Quelle est votre proposition ?50\n",
      "trop petit\n",
      "Quelle est votre proposition ?75\n",
      "trop petit\n",
      "Quelle est votre proposition ?82\n",
      "trop grand\n",
      "Quelle est votre proposition ?80\n",
      "trop grand\n",
      "Quelle est votre proposition ?78\n",
      "trop grand\n",
      "Quelle est votre proposition ?76\n",
      "trop petit\n",
      "Quelle est votre proposition ?77\n",
      "Gagné\n"
     ]
    }
   ],
   "source": [
    "# On importe la fonction randint de la librairie random\n",
    "from random import randint as rd\n",
    "\n",
    "# import random\n",
    "# random.randint(0,100)\n",
    "\n",
    "secret = rd(0,100)\n",
    "proposition_utilisateur = None\n",
    "\n",
    "while proposition_utilisateur != secret:\n",
    "    proposition_utilisateur = int(input(\"Quelle est votre proposition ?\"))\n",
    "    if proposition_utilisateur < secret:\n",
    "        print(\"trop petit\")\n",
    "    elif proposition_utilisateur > secret:\n",
    "        print(\"trop grand\")\n",
    "    else:\n",
    "        print(\"Gagné\")\n"
   ]
  },
  {
   "cell_type": "code",
   "execution_count": 4,
   "metadata": {},
   "outputs": [
    {
     "name": "stdout",
     "output_type": "stream",
     "text": [
      "Est-ce que le secret est 50 ? P/G/EP\n",
      "Est-ce que le secret est 25 ? P/G/EP\n",
      "Est-ce que le secret est 12 ? P/G/EP\n",
      "Est-ce que le secret est 6 ? P/G/EP\n",
      "Est-ce que le secret est 3 ? P/G/EP\n",
      "Est-ce que le secret est 1 ? P/G/EP\n",
      "Est-ce que le secret est 0 ? P/G/EE\n",
      "Bien joué\n"
     ]
    }
   ],
   "source": [
    "borne_min = 0\n",
    "borne_max = 101\n",
    "\n",
    "reponse_utilisateur = None\n",
    "\n",
    "while reponse_utilisateur != \"E\": \n",
    "    proposition = (borne_min + borne_max) // 2\n",
    "    reponse_utilisateur = input(f\"Est-ce que le secret est {proposition} ? P/G/E\")\n",
    "    if reponse_utilisateur == \"P\":\n",
    "        borne_max = proposition\n",
    "    elif reponse_utilisateur == \"G\":\n",
    "        borne_min = proposition\n",
    "\n",
    "print(\"Bien joué\")"
   ]
  },
  {
   "cell_type": "markdown",
   "metadata": {},
   "source": [
    "## Comprehensive list et ternaires "
   ]
  },
  {
   "cell_type": "code",
   "execution_count": 8,
   "metadata": {},
   "outputs": [
    {
     "name": "stdout",
     "output_type": "stream",
     "text": [
      "[64, 106, 24, 16, 72]\n",
      "[True, False, True, True, True]\n",
      "[32, 53, 36]\n"
     ]
    }
   ],
   "source": [
    "liste_ages = [32,53,12,8,36]\n",
    "\n",
    "par2 = [elm * 2 for elm in liste_ages]\n",
    "print(par2)\n",
    "\n",
    "restes = [elm % 2 == 0 for elm in liste_ages]\n",
    "print(restes)\n",
    "\n",
    "majeurs = [elm for elm in liste_ages if elm * 2 >= 100]\n",
    "print(majeurs)\n"
   ]
  },
  {
   "cell_type": "code",
   "execution_count": 9,
   "metadata": {},
   "outputs": [
    {
     "name": "stdout",
     "output_type": "stream",
     "text": [
      "majeur\n"
     ]
    }
   ],
   "source": [
    "age = 36\n",
    "\n",
    "etat = \"majeur\" if age >= 18 else \"mineur\"\n",
    "print(etat)"
   ]
  },
  {
   "cell_type": "markdown",
   "metadata": {},
   "source": [
    "## Les fonctions"
   ]
  },
  {
   "cell_type": "code",
   "execution_count": 11,
   "metadata": {},
   "outputs": [
    {
     "name": "stdout",
     "output_type": "stream",
     "text": [
      "Bonjour tout le monde\n",
      "Bonjour tout le monde\n"
     ]
    }
   ],
   "source": [
    "# Définition d'une fonction\n",
    "def dire_bonjour():\n",
    "    print(\"Bonjour tout le monde\")\n",
    "\n",
    "# Utilisation d'une fonction\n",
    "dire_bonjour()\n",
    "# Utilisation d'une fonction\n",
    "dire_bonjour()"
   ]
  },
  {
   "cell_type": "code",
   "execution_count": 12,
   "metadata": {},
   "outputs": [
    {
     "name": "stdout",
     "output_type": "stream",
     "text": [
      "Bonjour Mathieu\n"
     ]
    }
   ],
   "source": [
    "def dire_bonjour(nom):\n",
    "    return f\"Bonjour {nom}\"\n",
    "\n",
    "resultat = dire_bonjour(\"Mathieu\")\n",
    "print(resultat)"
   ]
  },
  {
   "cell_type": "code",
   "execution_count": 14,
   "metadata": {},
   "outputs": [
    {
     "name": "stdout",
     "output_type": "stream",
     "text": [
      "Bonjour Mathieu Elise Gerard\n"
     ]
    }
   ],
   "source": [
    "def dire_bonjour(nom, nom2, nom3):\n",
    "    return f\"Bonjour {nom} {nom2} {nom3}\"\n",
    "\n",
    "resultat = dire_bonjour(\"Mathieu\", \"Elise\", \"Gerard\")\n",
    "print(resultat)"
   ]
  },
  {
   "cell_type": "code",
   "execution_count": 20,
   "metadata": {},
   "outputs": [
    {
     "name": "stdout",
     "output_type": "stream",
     "text": [
      "nom2 : Elise\n",
      "nom3 : Gerard\n",
      "Bonjour Mathieu Elise Gerard\n",
      "nom2 : \n",
      "nom3 : \n",
      "Bonjour Mathieu  \n",
      "nom2 : Helene\n",
      "nom3 : \n",
      "Bonjour Mathieu Helene \n",
      "nom2 : \n",
      "nom3 : Helene\n",
      "Bonjour Mathieu  Helene\n",
      "15\n"
     ]
    }
   ],
   "source": [
    "def dire_bonjour(nom, nom2=\"\", nom3=\"\", age=15):\n",
    "    print(f\"nom2 : {nom2}\")\n",
    "    print(f\"nom3 : {nom3}\")\n",
    "    return f\"Bonjour {nom} {nom2} {nom3}\", age\n",
    "\n",
    "resultat, age = dire_bonjour(\"Mathieu\", \"Elise\", \"Gerard\")\n",
    "print(resultat)\n",
    "resultat, age = dire_bonjour(\"Mathieu\")\n",
    "print(resultat)\n",
    "resultat, age = dire_bonjour(\"Mathieu\", \"Helene\")\n",
    "print(resultat)\n",
    "resultat, age = dire_bonjour(\"Mathieu\", nom3=\"Helene\")\n",
    "print(resultat)\n",
    "print(age)"
   ]
  },
  {
   "cell_type": "code",
   "execution_count": 29,
   "metadata": {},
   "outputs": [
    {
     "name": "stdout",
     "output_type": "stream",
     "text": [
      "Dupont\n",
      "Martin\n",
      "EPS\n",
      "nom2 : \n",
      "nom3 : \n",
      "[{'nom': 'Dupont', 'prenom': 'Martin'}, {'nom': 'Dupont', 'prenom': 'Laurent'}, {'nom': 'Dupont', 'prenom': 'Eloise'}, {'nom': 'Dupont', 'prenom': 'Eugenie'}]\n"
     ]
    }
   ],
   "source": [
    "personne = {\n",
    "    \"nom\": \"Dupont\",\n",
    "    \"prenom\": \"Martin\",\n",
    "    \"age\": 37,\n",
    "    \"liste_matieres\": [\"SVT\", \"Maths\", \"EPS\"],\n",
    "    True: dire_bonjour\n",
    "}\n",
    "\n",
    "print(personne[\"nom\"])\n",
    "print(personne[\"prenom\"])\n",
    "print(personne[\"liste_matieres\"][-1])\n",
    "\n",
    "personne[True](\"Martin\")\n",
    "\n",
    "liste_prenoms = [\"Martin\", \"Laurent\", \"Eloise\", \"Eugenie\"]\n",
    "\n",
    "liste_personnes = [{\n",
    "    \"nom\": \"Dupont\",\n",
    "    \"prenom\": prenom\n",
    "} for prenom in liste_prenoms]\n",
    "\n",
    "print(liste_personnes)"
   ]
  },
  {
   "cell_type": "code",
   "execution_count": 27,
   "metadata": {},
   "outputs": [
    {
     "name": "stdout",
     "output_type": "stream",
     "text": [
      "Quel est votre langue ?ZH\n",
      "Ni hao\n"
     ]
    }
   ],
   "source": [
    "def dire_bonjour_en():\n",
    "    print(\"Hello world\")\n",
    "def dire_bonjour_fr():\n",
    "    print(\"Bonjour\")\n",
    "def dire_bonjour_es():\n",
    "    print(\"Hola\")\n",
    "def dire_bonjour_pt():\n",
    "    print(\"Oi\")\n",
    "def dire_bonjour_zh():\n",
    "    print(\"Ni hao\")\n",
    "\n",
    "langues = {\n",
    "    \"EN\": dire_bonjour_en,\n",
    "    \"FR\": dire_bonjour_fr,\n",
    "    \"ES\": dire_bonjour_es,\n",
    "    \"PT\": dire_bonjour_pt,\n",
    "    \"ZH\": dire_bonjour_zh,\n",
    "}\n",
    "\n",
    "lng = input(f\"Quel est votre langue ?\")\n",
    "langues[lng]()"
   ]
  },
  {
   "cell_type": "code",
   "execution_count": 30,
   "metadata": {},
   "outputs": [
    {
     "name": "stdout",
     "output_type": "stream",
     "text": [
      "[{'nom': 'Dupont', 'prenom': 'Martin', 'age': 45}, {'nom': 'Dupont', 'prenom': 'Laurent', 'age': 58}, {'nom': 'Dupont', 'prenom': 'Eloise', 'age': 23}]\n"
     ]
    }
   ],
   "source": [
    "liste_prenoms = [\"Martin\", \"Laurent\", \"Eloise\", \"Eugenie\"]\n",
    "liste_ages = [45, 58, 23]\n",
    "\n",
    "liste_personnes = [{\n",
    "    \"nom\": \"Dupont\",\n",
    "    \"prenom\": prenom,\n",
    "    \"age\": age\n",
    "} for prenom, age in zip(liste_prenoms, liste_ages)]\n",
    "\n",
    "print(liste_personnes)"
   ]
  },
  {
   "cell_type": "code",
   "execution_count": 31,
   "metadata": {},
   "outputs": [
    {
     "name": "stdout",
     "output_type": "stream",
     "text": [
      "Le 0eme prenom est Martin\n",
      "Le 1eme prenom est Laurent\n",
      "Le 2eme prenom est Eloise\n",
      "Le 3eme prenom est Eugenie\n"
     ]
    }
   ],
   "source": [
    "for i, prenom in enumerate(liste_prenoms):\n",
    "    print(f\"Le {i}eme prenom est {prenom}\")"
   ]
  },
  {
   "cell_type": "code",
   "execution_count": 32,
   "metadata": {},
   "outputs": [
    {
     "name": "stdout",
     "output_type": "stream",
     "text": [
      "John vs Mathis\n",
      "John vs Maud\n",
      "John vs Yael\n",
      "Elie vs Mathis\n",
      "Elie vs Maud\n",
      "Elie vs Yael\n",
      "Enora vs Mathis\n",
      "Enora vs Maud\n",
      "Enora vs Yael\n"
     ]
    }
   ],
   "source": [
    "equipeA = [\"John\", \"Elie\", \"Enora\"]\n",
    "equipeB = [\"Mathis\", \"Maud\", \"Yael\"]\n",
    "\n",
    "from itertools import product \n",
    "\n",
    "for eA, eB in product(equipeA, equipeB):\n",
    "    print(f\"{eA} vs {eB}\")"
   ]
  },
  {
   "cell_type": "code",
   "execution_count": null,
   "metadata": {},
   "outputs": [],
   "source": [
    "# Faite une fonction dire bonjour \n",
    "# Qui retourne \"bonjour {nom}\" si le parametre lng est \"FR\"\n",
    "# Qui retourne \"Hello {nom}\" si le parametre lng est \"EN\"\n",
    "# Par défaut lng = \"FR\""
   ]
  }
 ],
 "metadata": {
  "kernelspec": {
   "display_name": "Python 3",
   "language": "python",
   "name": "python3"
  },
  "language_info": {
   "codemirror_mode": {
    "name": "ipython",
    "version": 3
   },
   "file_extension": ".py",
   "mimetype": "text/x-python",
   "name": "python",
   "nbconvert_exporter": "python",
   "pygments_lexer": "ipython3",
   "version": "3.7.4"
  }
 },
 "nbformat": 4,
 "nbformat_minor": 2
}
