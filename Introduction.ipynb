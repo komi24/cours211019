{
 "cells": [
  {
   "cell_type": "markdown",
   "metadata": {},
   "source": [
    "## Introduction Python\n",
    "\n",
    "* Les variables\n",
    "* Les boucles\n",
    "..."
   ]
  },
  {
   "cell_type": "code",
   "execution_count": 2,
   "metadata": {},
   "outputs": [
    {
     "name": "stdout",
     "output_type": "stream",
     "text": [
      "[2, 1, 6, 8]\n",
      "[5, 12, 7]\n",
      "[1, 8, 12]\n",
      "[12, 5, 8, 6]\n"
     ]
    }
   ],
   "source": [
    "ma_liste = [2,1,6,8,5,12,7]\n",
    "\n",
    "# Récupérer les 4 premiers éléments\n",
    "print(ma_liste[:4])\n",
    "# Récupérer les 3 derniers éléments\n",
    "print(ma_liste[-3:])\n",
    "# Récupérer du 2ème au 6ème (inclus) de deux en deux\n",
    "print(ma_liste[1:6:2])\n",
    "# Récupérer de l'avant-dernier au 3ème (sens inverse)\n",
    "print(ma_liste[-2:1:-1])"
   ]
  },
  {
   "cell_type": "code",
   "execution_count": null,
   "metadata": {},
   "outputs": [],
   "source": []
  }
 ],
 "metadata": {
  "kernelspec": {
   "display_name": "Python 3",
   "language": "python",
   "name": "python3"
  },
  "language_info": {
   "codemirror_mode": {
    "name": "ipython",
    "version": 3
   },
   "file_extension": ".py",
   "mimetype": "text/x-python",
   "name": "python",
   "nbconvert_exporter": "python",
   "pygments_lexer": "ipython3",
   "version": "3.7.4"
  }
 },
 "nbformat": 4,
 "nbformat_minor": 2
}
