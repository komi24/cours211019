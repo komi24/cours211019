{
 "cells": [
  {
   "cell_type": "code",
   "execution_count": 50,
   "metadata": {},
   "outputs": [],
   "source": [
    "import pandas as pd\n",
    "\n",
    "stocks = pd.read_csv(\"stocks_cleaned.csv\")\n",
    "tweets = pd.read_csv(\"tweets.csv\", delimiter=\",\")\n"
   ]
  },
  {
   "cell_type": "code",
   "execution_count": 10,
   "metadata": {},
   "outputs": [
    {
     "data": {
      "text/plain": [
       "'VIDEO: “I was in my office. I was minding my own business...” –David Solomon tells $GS interns how he learned he wa… https://t.co/QClAITywXV'"
      ]
     },
     "execution_count": 10,
     "metadata": {},
     "output_type": "execute_result"
    }
   ],
   "source": [
    "tweets.loc[0,\"text\"]"
   ]
  },
  {
   "cell_type": "code",
   "execution_count": 46,
   "metadata": {},
   "outputs": [
    {
     "name": "stdout",
     "output_type": "stream",
     "text": [
      "Novice Traders trade 5 to 10 times too big. They are taking 5 to 10 percent risk on a trade they should be taking… https://t.co/ya7IPSVtBT,Thu Jul 12 12:00:00 +0000 2018,traderead,MCHP,Microchip Technology Incorporated,https://twitter.com/i/web/status/1017378035509669890\"\n"
     ]
    }
   ],
   "source": [
    "print(tweets[tweets[\"verified\"].isna()].loc[3127,\"text\"])"
   ]
  },
  {
   "cell_type": "code",
   "execution_count": 51,
   "metadata": {},
   "outputs": [
    {
     "data": {
      "text/plain": [
       "id               28874\n",
       "text             28874\n",
       "timestamp        28874\n",
       "source           28867\n",
       "symbols          28867\n",
       "company_names    28866\n",
       "url              22419\n",
       "verified         28867\n",
       "dtype: int64"
      ]
     },
     "execution_count": 51,
     "metadata": {},
     "output_type": "execute_result"
    }
   ],
   "source": [
    "tweets.count()\n",
    "tweets = tweets\n"
   ]
  },
  {
   "cell_type": "code",
   "execution_count": 49,
   "metadata": {},
   "outputs": [
    {
     "data": {
      "text/plain": [
       "id               22419\n",
       "text             22419\n",
       "timestamp        22419\n",
       "source           22419\n",
       "symbols          22419\n",
       "company_names    22419\n",
       "url              22419\n",
       "verified         22419\n",
       "dtype: int64"
      ]
     },
     "execution_count": 49,
     "metadata": {},
     "output_type": "execute_result"
    }
   ],
   "source": [
    "tweets.count()"
   ]
  },
  {
   "cell_type": "code",
   "execution_count": null,
   "metadata": {},
   "outputs": [],
   "source": []
  }
 ],
 "metadata": {
  "kernelspec": {
   "display_name": "Python 3",
   "language": "python",
   "name": "python3"
  },
  "language_info": {
   "codemirror_mode": {
    "name": "ipython",
    "version": 3
   },
   "file_extension": ".py",
   "mimetype": "text/x-python",
   "name": "python",
   "nbconvert_exporter": "python",
   "pygments_lexer": "ipython3",
   "version": "3.7.4"
  }
 },
 "nbformat": 4,
 "nbformat_minor": 2
}
