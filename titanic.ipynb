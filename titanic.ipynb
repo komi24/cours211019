{
 "cells": [
  {
   "cell_type": "code",
   "execution_count": 21,
   "metadata": {},
   "outputs": [
    {
     "data": {
      "text/plain": [
       "count     889\n",
       "unique      3\n",
       "top         S\n",
       "freq      644\n",
       "Name: Embarked, dtype: object"
      ]
     },
     "execution_count": 21,
     "metadata": {},
     "output_type": "execute_result"
    }
   ],
   "source": [
    "import pandas as pd\n",
    "\n",
    "df = pd.read_csv(\"train.csv\")\n",
    "df.columns\n",
    "df.dtypes\n",
    "df[[\"Survived\", \"Name\"]]\n",
    "\n",
    "len(df[\"Age\"])\n",
    "df.count()\n",
    "\n",
    "df[\"Survived\"] == 1\n",
    "len(df[df[\"Survived\"] == 1])\n",
    "df[df[\"Survived\"] == 1].count()\n",
    "\n",
    "df[\"Embarked\"].unique()\n",
    "\n",
    "df.describe()\n",
    "df[\"Embarked\"].describe()"
   ]
  },
  {
   "cell_type": "code",
   "execution_count": 8,
   "metadata": {},
   "outputs": [
    {
     "data": {
      "text/plain": [
       "0    Mickael\n",
       "1     Michel\n",
       "2     Mickel\n",
       "3     Mikael\n",
       "4     Mckael\n",
       "5      Ckael\n",
       "Name: prenom, dtype: object"
      ]
     },
     "execution_count": 8,
     "metadata": {},
     "output_type": "execute_result"
    }
   ],
   "source": [
    "df = pd.DataFrame([\n",
    "    {\"nom\": \"Bolnet\", \"prenom\": \"Mickael\"},\n",
    "    {\"nom\": \"Balai\", \"prenom\": \"Michel\"},\n",
    "    {\"nom\": \"Dupont\", \"prenom\": \"Mickel\"},\n",
    "    {\"nom\": \"Bolneta\", \"prenom\": \"Mikael\"},\n",
    "    {\"nom\": \"Bolnetb\", \"prenom\": \"Mckael\"},\n",
    "    {\"nom\": \"Bolnete\", \"prenom\": \"Ckael\"},\n",
    "])\n",
    "\n",
    "df.columns\n",
    "df.dtypes\n",
    "df[\"prenom\"]"
   ]
  },
  {
   "cell_type": "code",
   "execution_count": 23,
   "metadata": {},
   "outputs": [
    {
     "data": {
      "text/plain": [
       "<matplotlib.axes._subplots.AxesSubplot at 0x5a6be88>"
      ]
     },
     "execution_count": 23,
     "metadata": {},
     "output_type": "execute_result"
    },
    {
     "data": {
      "image/png": "[encoded data removed]",
      "text/plain": [
       "<Figure size 432x288 with 1 Axes>"
      ]
     },
     "metadata": {
      "needs_background": "light"
     },
     "output_type": "display_data"
    }
   ],
   "source": [
    "import pandas as pd\n",
    "\n",
    "df = pd.read_csv(\"train.csv\")\n",
    "\n",
    "df[\"Age\"].hist()"
   ]
  },
  {
   "cell_type": "code",
   "execution_count": 42,
   "metadata": {},
   "outputs": [
    {
     "name": "stdout",
     "output_type": "stream",
     "text": [
      "\n",
      "    nombre de femmes : 314\n",
      "    nombre de hommes : 577\n",
      "    propostion de femmes : 0.35241301907968575\n",
      "    propostion de femmes qui ont survécu : 0.7420382165605095\n",
      "    propostion de femmes qui ont survécu : 0.18890814558058924\n",
      "\n"
     ]
    },
    {
     "data": {
      "text/plain": [
       "<matplotlib.axes._subplots.AxesSubplot at 0x11bd8848>"
      ]
     },
     "execution_count": 42,
     "metadata": {},
     "output_type": "execute_result"
    },
    {
     "data": {
      "image/png": "[encoded data removed]",
      "text/plain": [
       "<Figure size 432x288 with 1 Axes>"
      ]
     },
     "metadata": {
      "needs_background": "light"
     },
     "output_type": "display_data"
    }
   ],
   "source": [
    "total = len(df)\n",
    "# Nombre de femmes\n",
    "nb_femmes = len(df[(df[\"Sex\"] == \"female\")])\n",
    "# Nombre d'hommes\n",
    "nb_hommes = len(df[(df[\"Sex\"] == \"male\")])\n",
    "# Proportion de femmes sur le bateau\n",
    "p_femmes = nb_femmes / total\n",
    "# Proportion de femmes qui ont survécu\n",
    "p_f_s = len(df[(df[\"Sex\"] == \"female\") & (df[\"Survived\"] == 1)]) / nb_femmes\n",
    "# Proportion d'hommes qui ont survécu\n",
    "p_h_s = len(df[(df[\"Sex\"] == \"male\") & (df[\"Survived\"] == 1)]) / nb_hommes\n",
    "\n",
    "\n",
    "print(f\"\"\"\n",
    "    nombre de femmes : {nb_femmes}\n",
    "    nombre de hommes : {nb_hommes}\n",
    "    propostion de femmes : {p_femmes}\n",
    "    propostion de femmes qui ont survécu : {p_f_s}\n",
    "    propostion de femmes qui ont survécu : {p_h_s}\n",
    "\"\"\")\n",
    "\n",
    "# histogramme des Ages des survivants\n",
    "df[\"Age\"].hist()\n",
    "df[df[\"Survived\"] == 1][\"Age\"].hist()\n"
   ]
  },
  {
   "cell_type": "code",
   "execution_count": 36,
   "metadata": {},
   "outputs": [
    {
     "data": {
      "text/plain": [
       "<matplotlib.axes._subplots.AxesSubplot at 0x117262c8>"
      ]
     },
     "execution_count": 36,
     "metadata": {},
     "output_type": "execute_result"
    },
    {
     "data": {
      "image/png": "[encoded data removed]",
      "text/plain": [
       "<Figure size 432x288 with 1 Axes>"
      ]
     },
     "metadata": {
      "needs_background": "light"
     },
     "output_type": "display_data"
    }
   ],
   "source": [
    "df[\"Fare\"].sort_values().reset_index()[\"Fare\"].plot()"
   ]
  },
  {
   "cell_type": "code",
   "execution_count": 37,
   "metadata": {},
   "outputs": [
    {
     "data": {
      "text/plain": [
       "<matplotlib.axes._subplots.AxesSubplot at 0x11aaca08>"
      ]
     },
     "execution_count": 37,
     "metadata": {},
     "output_type": "execute_result"
    },
    {
     "data": {
      "image/png": "[encoded data removed]",
      "text/plain": [
       "<Figure size 432x288 with 1 Axes>"
      ]
     },
     "metadata": {
      "needs_background": "light"
     },
     "output_type": "display_data"
    }
   ],
   "source": [
    "df.plot.scatter(\"Age\", \"Fare\")"
   ]
  },
  {
   "cell_type": "code",
   "execution_count": 85,
   "metadata": {},
   "outputs": [],
   "source": [
    "import pandas as pd\n",
    "\n",
    "df = pd.read_csv(\"train.csv\")\n",
    "df.describe()\n",
    "df.count()\n",
    "df.drop(columns=[\"Cabin\", \"Ticket\"], inplace=True)\n",
    "df.count()\n",
    "df.dtypes\n",
    "df[\"Sex\"] = df[\"Sex\"].map({\"female\": 1, \"male\": 0})\n",
    "df.dtypes\n",
    "# Transformez Embarked en integer\n",
    "df[\"Embarked\"] = df[\"Embarked\"].map({\"S\": 0, \"C\": 1, \"Q\": 2})\n",
    "df.Name\n",
    "\n",
    "def extract_title(name):\n",
    "    return re.findall(\", ([^.]*)\\.\", name)[0]\n",
    "\n",
    "df[\"Title\"] = df[\"Name\"].map(extract_title)\n",
    "\n",
    "titles = list(df.Title.unique())\n",
    "\n",
    "df.Title = df.Title.map(lambda t : titles.index(t))\n",
    "df.drop(columns=[\"Name\"], inplace=True)\n",
    "df.dropna(inplace=True)"
   ]
  },
  {
   "cell_type": "code",
   "execution_count": 54,
   "metadata": {},
   "outputs": [
    {
     "data": {
      "text/plain": [
       "0       29.2500\n",
       "1      110.2833\n",
       "2       34.9250\n",
       "3       89.1000\n",
       "4       43.0500\n",
       "         ...   \n",
       "886     40.0000\n",
       "887     50.0000\n",
       "888         NaN\n",
       "889     56.0000\n",
       "890     39.7500\n",
       "Length: 891, dtype: float64"
      ]
     },
     "execution_count": 54,
     "metadata": {},
     "output_type": "execute_result"
    }
   ],
   "source": [
    "df[\"Age\"] + df[\"Fare\"] * df[\"Age\"] + df[\"Sex\"]\n",
    "\n",
    "df.eval(\"Age + Fare * Age + Sex\")"
   ]
  },
  {
   "cell_type": "code",
   "execution_count": 73,
   "metadata": {},
   "outputs": [
    {
     "data": {
      "text/html": [
       "<div>\n",
       "<style scoped>\n",
       "    .dataframe tbody tr th:only-of-type {\n",
       "        vertical-align: middle;\n",
       "    }\n",
       "\n",
       "    .dataframe tbody tr th {\n",
       "        vertical-align: top;\n",
       "    }\n",
       "\n",
       "    .dataframe thead th {\n",
       "        text-align: right;\n",
       "    }\n",
       "</style>\n",
       "<table border=\"1\" class=\"dataframe\">\n",
       "  <thead>\n",
       "    <tr style=\"text-align: right;\">\n",
       "      <th></th>\n",
       "      <th>PassengerId</th>\n",
       "      <th>Survived</th>\n",
       "      <th>Pclass</th>\n",
       "      <th>Name</th>\n",
       "      <th>Sex</th>\n",
       "      <th>Age</th>\n",
       "      <th>SibSp</th>\n",
       "      <th>Parch</th>\n",
       "      <th>Fare</th>\n",
       "      <th>Embarked</th>\n",
       "      <th>Title</th>\n",
       "    </tr>\n",
       "  </thead>\n",
       "  <tbody>\n",
       "    <tr>\n",
       "      <td>745</td>\n",
       "      <td>746</td>\n",
       "      <td>0</td>\n",
       "      <td>1</td>\n",
       "      <td>Crosby, Capt. Edward Gifford</td>\n",
       "      <td>0</td>\n",
       "      <td>70.0</td>\n",
       "      <td>1</td>\n",
       "      <td>1</td>\n",
       "      <td>71.0</td>\n",
       "      <td>0.0</td>\n",
       "      <td>Capt</td>\n",
       "    </tr>\n",
       "  </tbody>\n",
       "</table>\n",
       "</div>"
      ],
      "text/plain": [
       "     PassengerId  Survived  Pclass                          Name  Sex   Age  \\\n",
       "745          746         0       1  Crosby, Capt. Edward Gifford    0  70.0   \n",
       "\n",
       "     SibSp  Parch  Fare  Embarked Title  \n",
       "745      1      1  71.0       0.0  Capt  "
      ]
     },
     "execution_count": 73,
     "metadata": {},
     "output_type": "execute_result"
    }
   ],
   "source": [
    "# Si la comptesse a survécu\n",
    "df[df[\"Title\"] == \"the Countess\"]\n",
    "# Si la capitaine a survécu\n",
    "df[df[\"Title\"] == \"Capt\"]"
   ]
  },
  {
   "cell_type": "code",
   "execution_count": 86,
   "metadata": {},
   "outputs": [
    {
     "data": {
      "text/plain": [
       "PassengerId    712\n",
       "Survived       712\n",
       "Pclass         712\n",
       "Sex            712\n",
       "Age            712\n",
       "SibSp          712\n",
       "Parch          712\n",
       "Fare           712\n",
       "Embarked       712\n",
       "Title          712\n",
       "dtype: int64"
      ]
     },
     "execution_count": 86,
     "metadata": {},
     "output_type": "execute_result"
    }
   ],
   "source": [
    "df.count()"
   ]
  },
  {
   "cell_type": "code",
   "execution_count": null,
   "metadata": {},
   "outputs": [],
   "source": []
  }
 ],
 "metadata": {
  "kernelspec": {
   "display_name": "Python 3",
   "language": "python",
   "name": "python3"
  },
  "language_info": {
   "codemirror_mode": {
    "name": "ipython",
    "version": 3
   },
   "file_extension": ".py",
   "mimetype": "text/x-python",
   "name": "python",
   "nbconvert_exporter": "python",
   "pygments_lexer": "ipython3",
   "version": "3.7.4"
  }
 },
 "nbformat": 4,
 "nbformat_minor": 2
}
