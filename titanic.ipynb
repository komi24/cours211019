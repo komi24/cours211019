{
 "cells": [
  {
   "cell_type": "code",
   "execution_count": 21,
   "metadata": {},
   "outputs": [
    {
     "data": {
      "text/plain": [
       "count     889\n",
       "unique      3\n",
       "top         S\n",
       "freq      644\n",
       "Name: Embarked, dtype: object"
      ]
     },
     "execution_count": 21,
     "metadata": {},
     "output_type": "execute_result"
    }
   ],
   "source": [
    "import pandas as pd\n",
    "\n",
    "df = pd.read_csv(\"train.csv\")\n",
    "df.columns\n",
    "df.dtypes\n",
    "df[[\"Survived\", \"Name\"]]\n",
    "\n",
    "len(df[\"Age\"])\n",
    "df.count()\n",
    "\n",
    "df[\"Survived\"] == 1\n",
    "len(df[df[\"Survived\"] == 1])\n",
    "df[df[\"Survived\"] == 1].count()\n",
    "\n",
    "df[\"Embarked\"].unique()\n",
    "\n",
    "df.describe()\n",
    "df[\"Embarked\"].describe()"
   ]
  },
  {
   "cell_type": "code",
   "execution_count": 8,
   "metadata": {},
   "outputs": [
    {
     "data": {
      "text/plain": [
       "0    Mickael\n",
       "1     Michel\n",
       "2     Mickel\n",
       "3     Mikael\n",
       "4     Mckael\n",
       "5      Ckael\n",
       "Name: prenom, dtype: object"
      ]
     },
     "execution_count": 8,
     "metadata": {},
     "output_type": "execute_result"
    }
   ],
   "source": [
    "df = pd.DataFrame([\n",
    "    {\"nom\": \"Bolnet\", \"prenom\": \"Mickael\"},\n",
    "    {\"nom\": \"Balai\", \"prenom\": \"Michel\"},\n",
    "    {\"nom\": \"Dupont\", \"prenom\": \"Mickel\"},\n",
    "    {\"nom\": \"Bolneta\", \"prenom\": \"Mikael\"},\n",
    "    {\"nom\": \"Bolnetb\", \"prenom\": \"Mckael\"},\n",
    "    {\"nom\": \"Bolnete\", \"prenom\": \"Ckael\"},\n",
    "])\n",
    "\n",
    "df.columns\n",
    "df.dtypes\n",
    "df[\"prenom\"]"
   ]
  },
  {
   "cell_type": "code",
   "execution_count": 23,
   "metadata": {},
   "outputs": [
    {
     "data": {
      "text/plain": [
       "<matplotlib.axes._subplots.AxesSubplot at 0x5a6be88>"
      ]
     },
     "execution_count": 23,
     "metadata": {},
     "output_type": "execute_result"
    },
    {
     "data": {
      "image/png": "[encoded data removed]",
      "text/plain": [
       "<Figure size 432x288 with 1 Axes>"
      ]
     },
     "metadata": {
      "needs_background": "light"
     },
     "output_type": "display_data"
    }
   ],
   "source": [
    "import pandas as pd\n",
    "\n",
    "df = pd.read_csv(\"train.csv\")\n",
    "\n",
    "df[\"Age\"].hist()"
   ]
  },
  {
   "cell_type": "code",
   "execution_count": null,
   "metadata": {},
   "outputs": [],
   "source": []
  }
 ],
 "metadata": {
  "kernelspec": {
   "display_name": "Python 3",
   "language": "python",
   "name": "python3"
  },
  "language_info": {
   "codemirror_mode": {
    "name": "ipython",
    "version": 3
   },
   "file_extension": ".py",
   "mimetype": "text/x-python",
   "name": "python",
   "nbconvert_exporter": "python",
   "pygments_lexer": "ipython3",
   "version": "3.7.4"
  }
 },
 "nbformat": 4,
 "nbformat_minor": 2
}
